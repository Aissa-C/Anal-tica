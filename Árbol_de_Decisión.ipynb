{
  "nbformat": 4,
  "nbformat_minor": 0,
  "metadata": {
    "colab": {
      "provenance": [],
      "authorship_tag": "ABX9TyPyQcbclnpx+caA/9rDeqy2",
      "include_colab_link": true
    },
    "kernelspec": {
      "name": "python3",
      "display_name": "Python 3"
    },
    "language_info": {
      "name": "python"
    }
  },
  "cells": [
    {
      "cell_type": "markdown",
      "metadata": {
        "id": "view-in-github",
        "colab_type": "text"
      },
      "source": [
        "<a href=\"https://colab.research.google.com/github/Aissa-C/Anal-tica/blob/main/%C3%81rbol_de_Decisi%C3%B3n.ipynb\" target=\"_parent\"><img src=\"https://colab.research.google.com/assets/colab-badge.svg\" alt=\"Open In Colab\"/></a>"
      ]
    },
    {
      "cell_type": "markdown",
      "source": [
        "**Árboles de Decisión**\n",
        "0. Cargar las librerías de referencia para el modelo"
      ],
      "metadata": {
        "id": "XnxoUkewmdYT"
      }
    },
    {
      "cell_type": "code",
      "source": [
        "import numpy as np\n",
        "import pandas as pd\n",
        "import matplotlib.pyplot as plt   #Graficador\n",
        "from sklearn.tree import DecisionTreeClassifier\n",
        "\n",
        "#Para no tener que cargar el archivo, vamos a utilizar dos librerías\n",
        "from google.colab import drive\n",
        "drive.mount('/content/drive')"
      ],
      "metadata": {
        "colab": {
          "base_uri": "https://localhost:8080/"
        },
        "id": "BnM26VUnmqBY",
        "outputId": "5d5d0fbb-ab35-4fcd-8f12-2143059d60cd"
      },
      "execution_count": null,
      "outputs": [
        {
          "output_type": "stream",
          "name": "stdout",
          "text": [
            "Mounted at /content/drive\n"
          ]
        }
      ]
    },
    {
      "cell_type": "markdown",
      "source": [
        "1. Se procede con la carga de los datos del archivo Solicitantes de Crédito"
      ],
      "metadata": {
        "id": "aHGziRAApM_C"
      }
    },
    {
      "cell_type": "code",
      "source": [
        "nxl= '/content/drive/MyDrive/Analítica de Negocios/0. SolicitantesCrédito(USD).xlsx'\n",
        "XDB= pd.read_excel(nxl, sheet_name=1)\n",
        "XDB= XDB.dropna()\n",
        "XDB.head(100)\n",
        "\n",
        "#Se procede con la selección de las variables\n",
        "XD= np.array(XDB[['Edad', 'Ingresos', 'Egresos', 'Monto (EAD)']])  #Datos de entrada\n",
        "print(XD)\n",
        "yd= np.array(XDB['PreApr'])  #Dato de salida/lo que quiero que el modelo pronostique\n",
        "print(yd)"
      ],
      "metadata": {
        "colab": {
          "base_uri": "https://localhost:8080/"
        },
        "collapsed": true,
        "id": "lCsgT5lMpS9l",
        "outputId": "c678d36e-ad7b-4482-be13-0f32b814cfc9"
      },
      "execution_count": null,
      "outputs": [
        {
          "output_type": "stream",
          "name": "stdout",
          "text": [
            "[[  38.         1356.144      1685.62266667  625.56223022]\n",
            " [  51.          286.016       364.462       140.03198442]\n",
            " [  37.          517.46325     629.20888889  284.56449156]\n",
            " ...\n",
            " [  38.          773.01975     672.91066667  594.94789369]\n",
            " [  43.          635.50175     780.69155556  305.58053861]\n",
            " [  37.         1419.26675    1169.83844444 1005.63687051]]\n",
            "[1 1 0 ... 1 1 1]\n"
          ]
        }
      ]
    },
    {
      "cell_type": "markdown",
      "source": [
        "2. Creación del Modelo: Decision Tree"
      ],
      "metadata": {
        "id": "_nTuGT3-sNwa"
      }
    },
    {
      "cell_type": "code",
      "source": [
        "mar= DecisionTreeClassifier(criterion='gini', max_depth=4)  #4 niveles o variables de entrada\n",
        "mar.fit(XD, yd)\n",
        "ydp= mar.predict(XD)\n",
        "\n",
        "from sklearn.metrics import confusion_matrix\n",
        "cm= confusion_matrix(yd, ydp)\n",
        "print(cm)\n",
        "\n",
        "#Evaluamos el modelo\n",
        "VN= cm[0,0]; FP= cm[0,1]; FN= cm[1,0]; VP= cm[1,1]\n",
        "\n",
        "Ex= (VP+VN)/(VP+VN+FP+FN)  #El porcentaje de los datos que pronosticó correctamente\n",
        "print('La exactitud alcanzada por el modelo fue:', Ex)\n",
        "\n",
        "Se= VP/(VP+FN)  #El porcentaje de los datos positivos que pronosticó correctamente\n",
        "print('La sensibilidad alcanzada por el modelo fue:', Se)\n",
        "\n",
        "Es= VN/(VN+FP)  #El porcentaje de los datos negativos que pronosticó correctamente\n",
        "print('La especificidad alcanzada por el modelo fue:', Es)"
      ],
      "metadata": {
        "colab": {
          "base_uri": "https://localhost:8080/"
        },
        "id": "p8AtNc46sSkR",
        "outputId": "b280a9d3-529a-4844-9c8b-89b6560c0ccc"
      },
      "execution_count": null,
      "outputs": [
        {
          "output_type": "stream",
          "name": "stdout",
          "text": [
            "[[2301  658]\n",
            " [ 644 2239]]\n",
            "La exactitud alcanzada por el modelo fue: 0.7771311194796303\n",
            "La sensibilidad alcanzada por el modelo fue: 0.7766215747485259\n",
            "La especificidad alcanzada por el modelo fue: 0.7776275768840825\n"
          ]
        }
      ]
    },
    {
      "cell_type": "markdown",
      "source": [
        "3. ¿Dónde está el árbol?"
      ],
      "metadata": {
        "id": "kUgNIi7tvvdP"
      }
    },
    {
      "cell_type": "code",
      "source": [
        "#Librerías para graficar el árbol\n",
        "from sklearn.tree import export_graphviz\n",
        "from pydotplus import graph_from_dot_data\n",
        "\n",
        "vs= ['Edad', 'Ingresos', 'Egresos', 'Monto (EAD)']  #Títulos para los nodos\n",
        "dot_graph= export_graphviz(mar, feature_names=vs)\n",
        "graph= graph_from_dot_data(dot_graph)\n",
        "graph.write_png('arbol.png')"
      ],
      "metadata": {
        "colab": {
          "base_uri": "https://localhost:8080/"
        },
        "id": "5JudtaFPv2JY",
        "outputId": "fb055ec3-b68e-45c8-ec60-c72bb24e5fd4"
      },
      "execution_count": null,
      "outputs": [
        {
          "output_type": "execute_result",
          "data": {
            "text/plain": [
              "True"
            ]
          },
          "metadata": {},
          "execution_count": 4
        }
      ]
    },
    {
      "cell_type": "markdown",
      "source": [
        "4. Se procede con el pronóstico de los nuevos solicitantes"
      ],
      "metadata": {
        "id": "w1LKTHDg6TVw"
      }
    },
    {
      "cell_type": "code",
      "source": [
        "XDB2= pd.read_excel(nxl, sheet_name=2)\n",
        "XDB2= XDB2.dropna()\n",
        "XDB2.head(100)\n",
        "\n",
        "XD2= np.array(XDB2[['Edad', 'Ingresos', 'Egresos', 'Monto (EAD)']])  #Datos de entrada\n",
        "print(XD2)\n",
        "\n",
        "#Pronosticamos la preaprobación\n",
        "ydp2= mar.predict(XD2)\n",
        "print(ydp2)\n",
        "print(\"El número de preaprobados es:\", np.sum(ydp2))\n",
        "print(\"El total de datos es:\", len(ydp2))\n",
        "print(\"El número de prenegados es:\", len(ydp2)-np.sum(ydp2))"
      ],
      "metadata": {
        "colab": {
          "base_uri": "https://localhost:8080/"
        },
        "id": "SSTTErrs6Y59",
        "outputId": "0a0e3b8a-25f0-4524-fa90-63a3939b7c2a"
      },
      "execution_count": null,
      "outputs": [
        {
          "output_type": "stream",
          "name": "stdout",
          "text": [
            "[[  38.          383.67775     368.59866667  175.84723507]\n",
            " [  47.           34.1875       38.03444444   26.95587069]\n",
            " [  46.         1774.305      2116.72377778  705.43470796]\n",
            " ...\n",
            " [  32.          283.26575     170.26644444  225.30034584]\n",
            " [  35.          768.288       847.26444444  479.16423193]\n",
            " [  24.          487.598       376.18355556  424.283721  ]]\n",
            "[0 0 1 ... 0 1 0]\n",
            "El número de preaprobados es: 1260\n",
            "El total de datos es: 2536\n",
            "El número de prenegados es: 1276\n"
          ]
        }
      ]
    },
    {
      "cell_type": "markdown",
      "source": [
        "**Análisis de Resultados**\n",
        "\n",
        "De acuerdo con la base de datos suministrada y el nodo base del árbol de decisión se puede observar un total de 5842 datos, divididos en 2959 PreAprobados y un total de 2883 PreNegados, esto representa el 51% y el 49% respectivamente.\n",
        "\n",
        "De acuerdo con el pronóstico realizado por el modelo, este alcanzó una exactitud cercana al 77%, valores que fueron cercanos a la sensibilidad que mide el comportamiento del modelo frente a la clasificación de los PreAprobados, así como la especificidad, indicador que mide el comportamiento delmodelo frente a la clasificación de los PreNegados.\n",
        "\n",
        "Se destaca el único nodo puro \"[PreNeg:10;PreApr:0]\", en donde los solicitantes de crédito deben cumplir con la siguiente regla: Si Ing>644 AND Egr<=685 AND Ing>376 AND Monto>=322.\n",
        "\n",
        "Con respecto al pronóstico de los datos, se puede observar un total de 2536 individuos sin PreAprobación de los cuales un total de 1260 pueden ser PreAprobados y un total de 1276 puede ser PreNegados."
      ],
      "metadata": {
        "id": "mIsPUg8g8max"
      }
    }
  ]
}