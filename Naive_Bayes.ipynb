{
  "nbformat": 4,
  "nbformat_minor": 0,
  "metadata": {
    "colab": {
      "provenance": [],
      "authorship_tag": "ABX9TyMtLsd1uT0OADI/FZ9zeEHg",
      "include_colab_link": true
    },
    "kernelspec": {
      "name": "python3",
      "display_name": "Python 3"
    },
    "language_info": {
      "name": "python"
    }
  },
  "cells": [
    {
      "cell_type": "markdown",
      "metadata": {
        "id": "view-in-github",
        "colab_type": "text"
      },
      "source": [
        "<a href=\"https://colab.research.google.com/github/Aissa-C/Anal-tica/blob/main/Naive_Bayes.ipynb\" target=\"_parent\"><img src=\"https://colab.research.google.com/assets/colab-badge.svg\" alt=\"Open In Colab\"/></a>"
      ]
    },
    {
      "cell_type": "markdown",
      "source": [
        "**Modelo de PreAprobación - Naive Bayes**\n",
        "0. Se procede con la carga de las librerías de trabajo"
      ],
      "metadata": {
        "id": "c-xVFkaNiYgg"
      }
    },
    {
      "cell_type": "code",
      "execution_count": null,
      "metadata": {
        "id": "PFqunHknhnbB"
      },
      "outputs": [],
      "source": [
        "import numpy as np    #Funciones matemáticas\n",
        "import pandas as pd   #Comunicación con Excel\n",
        "from sklearn.naive_bayes import GaussianNB   #Función Gaussiana\n",
        "from sklearn.metrics import confusion_matrix   #Métrica de medida"
      ]
    },
    {
      "cell_type": "markdown",
      "source": [
        "1. Se cargan los datos"
      ],
      "metadata": {
        "id": "HTEnvNUlkQFe"
      }
    },
    {
      "cell_type": "code",
      "source": [
        "nxl= '/content/0. SolicitantesCrédito(USD)_NaiveBayes(L).xlsx'\n",
        "XDB= pd.read_excel(nxl,sheet_name=1)\n",
        "XDB.dropna()  #Eliminar datos faltantes, celdas vacías\n",
        "\n",
        "#Seleccionamos las variables de interés\n",
        "XDB=XDB[['Edad', 'Ingresos', 'Egresos', 'Cuota (COP)', 'PreApr']]\n",
        "\n",
        "#Datos de entrada\n",
        "XD= np.array(XDB[['Edad', 'Ingresos', 'Egresos', 'Cuota (COP)']])\n",
        "#Datos de salida - Valor deseado - qué quiero que aprenda el modelo\n",
        "yd= np.array(XDB[['PreApr']])\n"
      ],
      "metadata": {
        "id": "9Ok5GAqgkS-8"
      },
      "execution_count": null,
      "outputs": []
    },
    {
      "cell_type": "markdown",
      "source": [
        "2. Implementamos Modelo"
      ],
      "metadata": {
        "id": "B-7glCuvnxDf"
      }
    },
    {
      "cell_type": "code",
      "source": [
        "mnb= GaussianNB()  #Llamamos el modelo\n",
        "mnb.fit(XD,yd)\n",
        "ydp= mnb.predict(XD)  #Muestra los datos de salida - pero que él obtuvo\n",
        "\n",
        "#Dígame las medias de las variables para cada categoría - PreApr/PreNeg\n",
        "u= mnb.theta_   #Se estiman las medias\n",
        "sigma= np.sqrt(mnb.var_)   #Se estiman las varianzas\n",
        "\n",
        "#Las variaciones de las variables\n",
        "LI= u-sigma\n",
        "LS= u+sigma\n",
        "\n",
        "print(\"La media de las variables por categoría es:\")\n",
        "print(u)\n",
        "\n",
        "print(\"El límite inferior de la variación por categoría es:\")\n",
        "print(LI)\n",
        "\n",
        "print(\"El límite superior de la variación por categoría es:\")\n",
        "print(LS)\n",
        "\n",
        "\n",
        "#Métrica de Evaluación -  cómo se comportó el modelo identificando la PreApr/PreNeg\n",
        "cm= confusion_matrix(yd,ydp)"
      ],
      "metadata": {
        "colab": {
          "base_uri": "https://localhost:8080/"
        },
        "id": "cLbf72nsn16o",
        "outputId": "531e6079-f51e-408b-ff67-30e848317c64"
      },
      "execution_count": null,
      "outputs": [
        {
          "output_type": "stream",
          "name": "stdout",
          "text": [
            "La media de las variables por categoría es:\n",
            "[[  40.98411626  431.42680644  401.54995644   16.88529983]\n",
            " [  41.10752688 1029.98947251  900.19312144   43.3269839 ]]\n",
            "El límite inferior de la variación por categoría es:\n",
            "[[ 28.77108358 105.62889147  58.77709557 -12.88412769]\n",
            " [ 28.85646196 557.55604444 374.75974307 -21.65436704]]\n",
            "El límite superior de la variación por categoría es:\n",
            "[[  53.19714893  757.22472141  744.32281731   46.65472735]\n",
            " [  53.35859181 1502.42290058 1425.62649981  108.30833484]]\n"
          ]
        },
        {
          "output_type": "stream",
          "name": "stderr",
          "text": [
            "/usr/local/lib/python3.10/dist-packages/sklearn/utils/validation.py:1183: DataConversionWarning: A column-vector y was passed when a 1d array was expected. Please change the shape of y to (n_samples, ), for example using ravel().\n",
            "  y = column_or_1d(y, warn=True)\n"
          ]
        }
      ]
    },
    {
      "cell_type": "markdown",
      "source": [
        "3. Se procede con la evaluación del modelo"
      ],
      "metadata": {
        "id": "UFHedHURzCZy"
      }
    },
    {
      "cell_type": "code",
      "source": [
        "VN= cm[0,0]  #Verdaderos Negativos\n",
        "FP= cm[0,1]  #Falsos Positivos\n",
        "FN= cm[1,0]  #Falsos Negativos\n",
        "VP= cm[1,1]  #Verdaderos positivos\n",
        "\n",
        "Exactitud= (VP+VN)/len(XD)\n",
        "print(\"La exactitud es:\", Exactitud)  #Comportamiento General\n",
        "\n",
        "TE= (FP+FN)/len(XD)\n",
        "print(\"La tasa de error es:\", TE)   #Porcentaje de equivocaciones\n",
        "\n",
        "Sensibilidad= VP/(VP+FP)\n",
        "print(\"La sensibilidad es:\", Sensibilidad)  #Cómo se comportó frente a los positivos\n",
        "\n",
        "Especificidad= VN/(VN+FN)\n",
        "print(\"La especificidad es:\", Especificidad)  #Cómo se comportó frente a los negativos\n",
        "\n",
        "Precision= VP/(VP+FN)\n",
        "print(\"La precisión es:\", Precision)   #Cómo le pegó a los positivos\n",
        "\n",
        "PredNeg= VN/(VN+FP)\n",
        "print(\"La probabilidad de negativo es:\", PredNeg)   #Cómo le pegó a los negativos"
      ],
      "metadata": {
        "colab": {
          "base_uri": "https://localhost:8080/"
        },
        "id": "31oCoMQGzIcu",
        "outputId": "16ac941a-d7fd-4964-b0c2-c3a23344a18f"
      },
      "execution_count": null,
      "outputs": [
        {
          "output_type": "stream",
          "name": "stdout",
          "text": [
            "La exactitud es: 0.7281752824375214\n",
            "La tasa de error es: 0.2718247175624786\n",
            "La sensibilidad es: 0.8102539530426449\n",
            "La especificidad es: 0.6825565912117177\n",
            "La precisión es: 0.5865417967395075\n",
            "La probabilidad de negativo es: 0.8661710037174721\n"
          ]
        }
      ]
    },
    {
      "cell_type": "markdown",
      "source": [
        "4. Qué pasa con una sola persona"
      ],
      "metadata": {
        "id": "ZaorvyXp3t5j"
      }
    },
    {
      "cell_type": "code",
      "source": [
        "Xun= np.array([[38, 1356, 1686, 18]])   #Esta es la persona del Excel\n",
        "ydun= mnb.predict(Xun)\n",
        "print(ydun)"
      ],
      "metadata": {
        "colab": {
          "base_uri": "https://localhost:8080/"
        },
        "id": "uZbnahrO39ss",
        "outputId": "c9609c09-ad5d-4764-b2d9-418c5fc70441"
      },
      "execution_count": null,
      "outputs": [
        {
          "output_type": "stream",
          "name": "stdout",
          "text": [
            "[1]\n"
          ]
        }
      ]
    },
    {
      "cell_type": "markdown",
      "source": [
        "Análisis de Resultados:\n",
        "De los resultados arrojados por el modelo se puede observar que los PreApr en general presentan edades (), ingresos (), egresos(), y cuotas() mayores a los PreNeg. Con respecto a la métrica se puede observar que el modelo funcionó mejor clasificando los positivos, como lo dice el indicador de sensibilidad el cual alcanzó el 81% de certezaz. De manera genreal, se puede observar que el modelo logró una exactitud que se ubicó por encima del 70% en promedio, y una tasa error cercana al 30% en promedio. De manera general, esta exactitud lo convierte en un buen modelo. Con respecto al solicitante de crédito tal y tal, este pertenece a la categoría de aprobado."
      ],
      "metadata": {
        "id": "9Cxchc7H42nj"
      }
    },
    {
      "cell_type": "markdown",
      "source": [],
      "metadata": {
        "id": "nJ1xuAWQLmpx"
      }
    }
  ]
}