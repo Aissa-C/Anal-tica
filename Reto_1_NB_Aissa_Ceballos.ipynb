{
  "nbformat": 4,
  "nbformat_minor": 0,
  "metadata": {
    "colab": {
      "provenance": [],
      "authorship_tag": "ABX9TyMdvrRubKpX95pX5nEjGkpC",
      "include_colab_link": true
    },
    "kernelspec": {
      "name": "python3",
      "display_name": "Python 3"
    },
    "language_info": {
      "name": "python"
    }
  },
  "cells": [
    {
      "cell_type": "markdown",
      "metadata": {
        "id": "view-in-github",
        "colab_type": "text"
      },
      "source": [
        "<a href=\"https://colab.research.google.com/github/Aissa-C/Anal-tica/blob/main/Reto_1_NB_Aissa_Ceballos.ipynb\" target=\"_parent\"><img src=\"https://colab.research.google.com/assets/colab-badge.svg\" alt=\"Open In Colab\"/></a>"
      ]
    },
    {
      "cell_type": "markdown",
      "source": [
        "**Reto 1. Modelo Naive Bayes**\n",
        "\n",
        "0. Cargue de las librerías de trabajo"
      ],
      "metadata": {
        "id": "K9gWS80-GP1e"
      }
    },
    {
      "cell_type": "code",
      "source": [
        "import numpy as np\n",
        "import pandas as pd\n",
        "from sklearn.naive_bayes import GaussianNB\n",
        "from sklearn.metrics import confusion_matrix"
      ],
      "metadata": {
        "id": "U1uoC8EWGeSs"
      },
      "execution_count": null,
      "outputs": []
    },
    {
      "cell_type": "markdown",
      "source": [
        "1. Cargue de datos"
      ],
      "metadata": {
        "id": "42WyJM_kMh4A"
      }
    },
    {
      "cell_type": "code",
      "source": [
        "nxl= '/content/1. BD1_Longitudinal Survey_Int.xlsx'\n",
        "XDB= pd.read_excel(nxl, sheet_name=0)\n",
        "XDB=XDB.dropna()\n",
        "\n",
        "#Selección de las variables de interés\n",
        "XDB=XDB[['Age', 'Mother_Edu', 'Father_Edu', 'Height', 'Weight', 'Income',\n",
        "          'Self_Esteem', 'FamilySize', 'Urban']]\n",
        "\n",
        "#Datos de entrada\n",
        "XD= np.array(XDB[['Age', 'Mother_Edu', 'Father_Edu', 'Height', 'Weight',\n",
        "                  'Income', 'Self_Esteem', 'FamilySize']])\n",
        "#Datos de salida\n",
        "yd= np.array(XDB[['Urban']])"
      ],
      "metadata": {
        "id": "BFsBzxvXMkf8",
        "collapsed": true
      },
      "execution_count": null,
      "outputs": []
    },
    {
      "cell_type": "markdown",
      "source": [
        "2. Implementación del modelo"
      ],
      "metadata": {
        "id": "NJxhPdKURGXv"
      }
    },
    {
      "cell_type": "code",
      "source": [
        "mnb= GaussianNB()\n",
        "mnb.fit(XD,yd)\n",
        "ydp= mnb.predict(XD)\n",
        "\n",
        "#Medias de las variables para cada categoría\n",
        "u= mnb.theta_\n",
        "sigma= np.sqrt(mnb.var_)\n",
        "\n",
        "#Total de datos y % de datos por categoría\n",
        "Long_datos= len(XD)\n",
        "print(\"El número total de datos de la base es:\", Long_datos)\n",
        "\n",
        "nd= mnb.class_count_\n",
        "print(\"El número de datos por categoría es:\", nd)\n",
        "\n",
        "ppd= nd/Long_datos\n",
        "print(\"Los porcentajes de datos por categoría de clasificación son:\", ppd)\n",
        "\n",
        "#Variaciones/límites\n",
        "LI= u-sigma\n",
        "LS= u+sigma\n",
        "\n",
        "print(\"La media de las variables por categoría es:\")\n",
        "print(u)\n",
        "\n",
        "print(\"El límite inferior de la variación por categoría es:\")\n",
        "print(LI)\n",
        "\n",
        "print(\"El límite superior de la variación por categoría es:\")\n",
        "print(LS)\n",
        "\n",
        "#Métrica de evaluación\n",
        "cm= confusion_matrix(yd,ydp)"
      ],
      "metadata": {
        "colab": {
          "base_uri": "https://localhost:8080/"
        },
        "id": "K0G_n1xuRK5K",
        "outputId": "33b3b291-ccdf-4ece-dedc-65768256b7c5"
      },
      "execution_count": null,
      "outputs": [
        {
          "output_type": "stream",
          "name": "stdout",
          "text": [
            "El número total de datos de la base es: 5683\n",
            "El número de datos por categoría es: [1173. 4510.]\n",
            "Los porcentajes de datos por categoría de clasificación son: [0.20640507 0.79359493]\n",
            "La media de las variables por categoría es:\n",
            "[[1.83810742e+01 1.07612958e+01 1.03324808e+01 6.72148338e+01\n",
            "  1.48857630e+02 3.03672506e+04 2.20272805e+01 4.74168798e+00]\n",
            " [1.83569845e+01 1.11769401e+01 1.12565410e+01 6.69031042e+01\n",
            "  1.44760976e+02 3.34278929e+04 2.26004435e+01 4.68780488e+00]]\n",
            "El límite inferior de la variación por categoría es:\n",
            "[[ 1.58996876e+01  7.58892579e+00  6.46311334e+00  6.31369799e+01\n",
            "   1.18746964e+02 -1.33465823e+03  1.78344685e+01  2.16621834e+00]\n",
            " [ 1.58811112e+01  7.79013864e+00  7.15097738e+00  6.26897933e+01\n",
            "   1.14669654e+02 -2.69533531e+03  1.84154526e+01  2.24996381e+00]]\n",
            "El límite superior de la variación por categoría es:\n",
            "[[2.08624608e+01 1.39336659e+01 1.42018483e+01 7.12926877e+01\n",
            "  1.78968296e+02 6.20691595e+04 2.62200925e+01 7.31715762e+00]\n",
            " [2.08328577e+01 1.45637416e+01 1.53621047e+01 7.11164151e+01\n",
            "  1.74852297e+02 6.95511211e+04 2.67854344e+01 7.12564594e+00]]\n"
          ]
        },
        {
          "output_type": "stream",
          "name": "stderr",
          "text": [
            "/usr/local/lib/python3.10/dist-packages/sklearn/utils/validation.py:1183: DataConversionWarning: A column-vector y was passed when a 1d array was expected. Please change the shape of y to (n_samples, ), for example using ravel().\n",
            "  y = column_or_1d(y, warn=True)\n"
          ]
        }
      ]
    },
    {
      "cell_type": "markdown",
      "source": [
        "3. Evaluación del modelo"
      ],
      "metadata": {
        "id": "uVHMHie8V_zO"
      }
    },
    {
      "cell_type": "code",
      "source": [
        "VN= cm[0,0]\n",
        "FP= cm[0,1]\n",
        "FN= cm[1,0]\n",
        "VP= cm[1,1]\n",
        "\n",
        "\n",
        "Exactitud= (VP+VN)/len(XD)\n",
        "print(\"La exactitud es:\", Exactitud)\n",
        "\n",
        "TE= (FP+FN)/len(XD)\n",
        "print(\"La tasa de error es:\", TE)\n",
        "\n",
        "Sensibilidad= VP/(VP+FP)\n",
        "print(\"La sensibilidad es:\", Sensibilidad)\n",
        "\n",
        "Especificidad= VN/(VN+FN)\n",
        "print(\"La especificidad es:\", Especificidad)\n",
        "\n",
        "Precision= VP/(VP+FN)\n",
        "print(\"La precisión es:\", Precision)\n",
        "\n",
        "PredNeg= VN/(VN+FP)\n",
        "print(\"La probabilidad de negativo es:\", PredNeg)"
      ],
      "metadata": {
        "id": "-bJjtBAkWI7K",
        "colab": {
          "base_uri": "https://localhost:8080/"
        },
        "outputId": "6f671912-b0d6-4fcc-c6a0-57ced3656efa"
      },
      "execution_count": null,
      "outputs": [
        {
          "output_type": "stream",
          "name": "stdout",
          "text": [
            "La exactitud es: 0.7932430054548654\n",
            "La tasa de error es: 0.2067569945451346\n",
            "La sensibilidad es: 0.793729082261758\n",
            "La especificidad es: 0.3333333333333333\n",
            "La precisión es: 0.9991130820399113\n",
            "La probabilidad de negativo es: 0.0017050298380221654\n"
          ]
        }
      ]
    },
    {
      "cell_type": "markdown",
      "source": [
        "4. Qué pasa con una sola persona"
      ],
      "metadata": {
        "id": "GpSyc2hl-o_q"
      }
    },
    {
      "cell_type": "code",
      "source": [
        "Xun= np.array([[34, 9, 6, 65, 135, 50000, 30, 3]])\n",
        "ydun= mnb.predict(Xun)\n",
        "print(ydun)"
      ],
      "metadata": {
        "colab": {
          "base_uri": "https://localhost:8080/"
        },
        "id": "vyNE8zOc-tf5",
        "outputId": "0a18add9-6f25-4039-9a27-ebd5ec373764"
      },
      "execution_count": null,
      "outputs": [
        {
          "output_type": "stream",
          "name": "stdout",
          "text": [
            "[1.]\n"
          ]
        }
      ]
    },
    {
      "cell_type": "markdown",
      "source": [
        "**Análisis de los resultados**\n",
        "Gracias a los resultados arrojados por el modelo podemos observar que:\n",
        "1. Las personas del área urbana presentan educación de la madre(11.17), educación del padre(11.25), ingresos(33,427.89), y autoestima(22.6) mayores a comparación de las personas del área rural; pero, presentan edades(18.35), alturas(66.9), pesos(144.76) y tamaños de familia(4.68) menores a las personas del área rural.\n",
        "\n",
        "2. El modelo funcionó mejor clasificando a los positivos(área urbana), como es evidenciable gracias al indicador de sensibilidad con un 79.37% de certeza.\n",
        "\n",
        "3. En términos generales, el modelo logró una exactitud por encima del 79.32% en promedio, y una tasa de error cercana al 20.67% en promedio. Debido a la cifra tan alta de exactitud que obtuvo, esto lo convierte en un buen modelo.\n",
        "\n",
        "4. De acuerdo con el modelo, la persona con estas características ([[34, 9, 6, 65, 135, 50000, 30, 3]]), vive en el área urbana."
      ],
      "metadata": {
        "id": "vjibY9CuSLce"
      }
    }
  ]
}