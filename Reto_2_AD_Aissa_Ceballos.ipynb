{
  "nbformat": 4,
  "nbformat_minor": 0,
  "metadata": {
    "colab": {
      "provenance": [],
      "authorship_tag": "ABX9TyNni2UBS60CsElQdZhK7r1n",
      "include_colab_link": true
    },
    "kernelspec": {
      "name": "python3",
      "display_name": "Python 3"
    },
    "language_info": {
      "name": "python"
    }
  },
  "cells": [
    {
      "cell_type": "markdown",
      "metadata": {
        "id": "view-in-github",
        "colab_type": "text"
      },
      "source": [
        "<a href=\"https://colab.research.google.com/github/Aissa-C/Anal-tica/blob/main/Reto_2_AD_Aissa_Ceballos.ipynb\" target=\"_parent\"><img src=\"https://colab.research.google.com/assets/colab-badge.svg\" alt=\"Open In Colab\"/></a>"
      ]
    },
    {
      "cell_type": "markdown",
      "source": [
        "**Reto 2. Modelo de Árboles de Decisión**\n",
        "0. Cargue de las librerías de referencia para el modelo"
      ],
      "metadata": {
        "id": "Dnf_XEP2Hvbp"
      }
    },
    {
      "cell_type": "code",
      "source": [
        "import numpy as np\n",
        "import pandas as pd\n",
        "import matplotlib.pyplot as plt\n",
        "from sklearn.tree import DecisionTreeClassifier\n",
        "\n",
        "from google.colab import drive\n",
        "drive.mount('/content/drive')"
      ],
      "metadata": {
        "colab": {
          "base_uri": "https://localhost:8080/"
        },
        "id": "A1ZiiaOMITws",
        "outputId": "83911a32-5a27-4197-ad7a-f7da849728ef"
      },
      "execution_count": null,
      "outputs": [
        {
          "output_type": "stream",
          "name": "stdout",
          "text": [
            "Mounted at /content/drive\n"
          ]
        }
      ]
    },
    {
      "cell_type": "markdown",
      "source": [
        "1. Cargue de los datos del archivo Travel Data"
      ],
      "metadata": {
        "id": "OcnsuKXjJFGH"
      }
    },
    {
      "cell_type": "code",
      "source": [
        "nxl= '/content/drive/MyDrive/Analítica de Negocios/2. BD1_Travel_Data_int.xlsx'\n",
        "XDB= pd.read_excel(nxl, sheet_name=0)\n",
        "XDB= XDB.dropna()\n",
        "\n",
        "XDB['College']= XDB['College'].map({'Yes':1, 'No':0})\n",
        "XDB['CreditCard']= XDB['CreditCard'].map({'Yes':1, 'No':0})\n",
        "print(XDB.head(100))\n",
        "\n",
        "#Selección de variables\n",
        "XD= np.array(XDB[['College', 'FoodSpend', 'Income', 'TravelSpend']])\n",
        "print(XD)\n",
        "yd= np.array(XDB['CreditCard'])\n",
        "print(yd)"
      ],
      "metadata": {
        "colab": {
          "base_uri": "https://localhost:8080/"
        },
        "collapsed": true,
        "id": "LD6qfMIfJOuq",
        "outputId": "48d4b5da-0914-42a1-c1df-34ec06bcd424"
      },
      "execution_count": null,
      "outputs": [
        {
          "output_type": "stream",
          "name": "stdout",
          "text": [
            "    College  CreditCard  FoodSpend  Income  TravelSpend\n",
            "0         1           1    5472.43   49150       827.40\n",
            "1         0           1    9130.73   47806       863.55\n",
            "2         0           1    4450.67   46050      1180.05\n",
            "3         0           1    5020.72   42600       755.70\n",
            "4         0           1    3408.11   52092       851.40\n",
            "..      ...         ...        ...     ...          ...\n",
            "95        0           0    2019.98   65982      4338.75\n",
            "96        0           0    7046.11   53986      1851.60\n",
            "97        0           0    5180.13   53986      1646.70\n",
            "98        0           0    3266.44   63962      1641.60\n",
            "99        1           1    2082.23   49004      1564.95\n",
            "\n",
            "[100 rows x 5 columns]\n",
            "[[1.00000e+00 5.47243e+03 4.91500e+04 8.27400e+02]\n",
            " [0.00000e+00 9.13073e+03 4.78060e+04 8.63550e+02]\n",
            " [0.00000e+00 4.45067e+03 4.60500e+04 1.18005e+03]\n",
            " ...\n",
            " [0.00000e+00 3.58586e+03 4.22500e+04 2.25195e+03]\n",
            " [1.00000e+00 1.83395e+03 6.02480e+04 2.00025e+03]\n",
            " [0.00000e+00 6.20597e+03 5.85200e+04 3.66750e+03]]\n",
            "[1 1 1 1 1 0 0 1 0 0 0 1 1 1 0 1 0 0 0 0 0 0 1 0 1 0 1 1 0 1 0 1 1 0 1 1 0\n",
            " 0 0 0 0 0 0 0 0 0 0 0 1 0 0 0 0 1 1 0 1 1 0 0 0 1 0 0 0 0 1 0 0 0 0 0 0 1\n",
            " 0 0 1 0 0 0 1 0 1 0 0 1 1 0 0 0 0 0 0 0 1 0 0 0 0 1 0 0 1 1 0 0 0 0 1 0 0\n",
            " 0 0 0 0 0 0 0 0 0 0 0 1 0 0 0 0 1 1 1 0 0 0 0 0 0 1 0 0 0 1 0 0 0 1 0 0 0\n",
            " 1 0 1 0 0 1 1 1 0 0 0 1 1 0 0 1 0 0 0 0 1 0 0 0 0 0 1 0 1 1 0 0 0 1 0 0 0\n",
            " 1 0 0 0 0 0 0 1 0 0 0 0 0 0 0 1 1 0 0 1 0 0 0 1 1 0 0 0 1 0 0 1 0 0 0 0 0\n",
            " 0 0 1 1 0 0 0 0 0 0 0 0 1 0 0 1 0 0 1 0 0 0 0 1 0 0 1 0 1 0 0 0 0 0 1 0 0\n",
            " 0 0 0 0 0 0 0 1 0 0 0 0 0 0 0 0 1 1 0 0 1 0 0 0 0 0 0 0 0 0 0 1 0 1 1 0 0\n",
            " 0 0 0 0 0 0 1 1 1 1 0 1 1 1 0 1 1 1 1 1 0 0 0 1 0 0 0 0 1 1 1 0 0 1 0 1 0\n",
            " 0 0 0 0 0 1 0 0 0 0 0 0 0 0 0 0 1 0 0 0 0 0 0 1 0 0 0 0 0 0 0 0 0 1 1 0 0\n",
            " 0 0 1 1 1 1 0 1 1 0 0 0 0 0 0 0 0 0 1 1 1 0 1 0 0 1 1 1 1 0 1 0 0 1 0 0 0\n",
            " 0 1 1 1 1 0 0 0 1 1 0 0 1 0 0 1 1 0 1 0 0 1 0 1 1 0 1 0 0 1 1 1 0 1 1 1 1\n",
            " 1 0 0 0 0 0 1 0 1 0 0 0 1 1 0 0 0 1 0 1 1 1 0 0 1 0 1 0 1 0 0 0 0 0 0 1 0\n",
            " 0 0 0 0 0 0 1 0 0 0 0 0 1 0 0 0 0 0 0]\n"
          ]
        }
      ]
    },
    {
      "cell_type": "markdown",
      "source": [
        "2. Creación del Modelo: Árbol de Decisión"
      ],
      "metadata": {
        "id": "4BI9NjgHf7Pz"
      }
    },
    {
      "cell_type": "code",
      "execution_count": null,
      "metadata": {
        "colab": {
          "base_uri": "https://localhost:8080/"
        },
        "id": "WKwsYDU9HmWf",
        "outputId": "ff38ce8a-6a52-41b2-fade-acc89fd63e8b"
      },
      "outputs": [
        {
          "output_type": "stream",
          "name": "stdout",
          "text": [
            "[[334   9]\n",
            " [ 42 115]]\n",
            "La exactitud del modelo es:  0.898\n",
            "La sensibilidad del modelo es:  0.732484076433121\n",
            "La especificidad del modelo es:  0.9737609329446064\n"
          ]
        }
      ],
      "source": [
        "mar= DecisionTreeClassifier(criterion='gini', max_depth=4)\n",
        "mar= mar.fit(XD, yd)\n",
        "ydp= mar.predict(XD)\n",
        "\n",
        "from sklearn.metrics import confusion_matrix\n",
        "cm= confusion_matrix(yd, ydp)\n",
        "print(cm)\n",
        "\n",
        "#Evaluación del modelo\n",
        "VN= cm[0,0]; FP= cm[0,1]; FN= cm[1,0]; VP= cm[1,1]\n",
        "\n",
        "Ex= (VP+VN)/(VP+VN+FP+FN)  #Porcentaje de datos que pronosticó correctamente\n",
        "print('La exactitud del modelo es: ', Ex)\n",
        "\n",
        "Se= VP/(VP+FN)  #Porcentaje de datos positivos que pronosticó correctamente\n",
        "print('La sensibilidad del modelo es: ', Se)\n",
        "\n",
        "Es= VN/(VN+FP)  #Porcentaje de datos negativos que pronosticó correctamente\n",
        "print('La especificidad del modelo es: ', Es)"
      ]
    },
    {
      "cell_type": "markdown",
      "source": [
        "3. Árbol de Decisión"
      ],
      "metadata": {
        "id": "mlU5_GW-iGrq"
      }
    },
    {
      "cell_type": "code",
      "source": [
        "#Librerías para graficar el árbol\n",
        "from sklearn.tree import export_graphviz\n",
        "from pydotplus import graph_from_dot_data\n",
        "\n",
        "vs= ['College', 'FoodSpend', 'Income', 'TravelSpend']\n",
        "dot_graph= export_graphviz(mar, feature_names=vs)\n",
        "graph= graph_from_dot_data(dot_graph)\n",
        "graph.write_png('arbol_reto.png')"
      ],
      "metadata": {
        "colab": {
          "base_uri": "https://localhost:8080/"
        },
        "id": "OuS3ATWDiLpE",
        "outputId": "914071a3-0afe-428c-e923-ff0ee5ca19bc"
      },
      "execution_count": null,
      "outputs": [
        {
          "output_type": "execute_result",
          "data": {
            "text/plain": [
              "True"
            ]
          },
          "metadata": {},
          "execution_count": 4
        }
      ]
    },
    {
      "cell_type": "markdown",
      "source": [
        "4. Pronóstico de los nuevos clientes"
      ],
      "metadata": {
        "id": "TSl1_GOPkXlN"
      }
    },
    {
      "cell_type": "code",
      "source": [
        "XDB1= pd.read_excel(nxl, sheet_name=1)\n",
        "XDB1= XDB1.dropna()\n",
        "XDB1['College']= XDB1['College'].map({'Yes':1, 'No':0})\n",
        "print(XDB1)\n",
        "\n",
        "XD1= np.array(XDB1[['College', 'FoodSpend', 'Income', 'TravelSpend']])\n",
        "print(XD1)\n",
        "\n",
        "#Pronosticamos la utilización\n",
        "ydp1= mar.predict(XD1)\n",
        "print(ydp1)\n",
        "print(\"Las personas que usarán su tarjeta de crédito son:\", np.sum(ydp1))\n",
        "print(\"Las personas que NO usarán su tarjeta de crédito son:\", len(ydp1)-np.sum(ydp1))"
      ],
      "metadata": {
        "colab": {
          "base_uri": "https://localhost:8080/"
        },
        "id": "qpHksFWDk01H",
        "outputId": "9ac01d43-7b22-429e-8878-09a045c9c2ff"
      },
      "execution_count": null,
      "outputs": [
        {
          "output_type": "stream",
          "name": "stdout",
          "text": [
            "   College  FoodSpend  Income  TravelSpend\n",
            "0        0    2892.90   65982       2151.6\n",
            "1        1    6017.66   53986       2002.5\n",
            "[[0.00000e+00 2.89290e+03 6.59820e+04 2.15160e+03]\n",
            " [1.00000e+00 6.01766e+03 5.39860e+04 2.00250e+03]]\n",
            "[0 0]\n",
            "Las personas que usarán su tarjeta de crédito son: 0\n",
            "Las personas que NO usarán su tarjeta de crédito son: 2\n"
          ]
        }
      ]
    },
    {
      "cell_type": "markdown",
      "source": [
        "**Análisis de Resultados**\n",
        "\n",
        "De acuerdo con la base de datos suministrada y el nodo base del árbol de decisión, se puede observar un total de 500 datos, divididos en 343 usuarios de la tarjeta de crédito y un total de 157 no usuarios de la tarjeta de crédito, esto representa el 68.6% y el 31.4% respectivamente.\n",
        "\n",
        "De acuerdo con el pronóstico realizado por el modelo, este alcanzó una exactitud superior al 89%, valor que estuvo en un punto medio entre la sensibilidad (73%) - que mide el comportamiento del modelo en la clasificación de los usuarios de tarjeta de crédito - y la especificidad (97.4%) - que mide el comportamiento del modelo frente a la clasificación de los no usuarios de tarjeta de crédito -.\n",
        "\n",
        "Se destacan 3 nodos puros:\n",
        "\n",
        "* \"[NoTC:108;SiTC:0]\" en donde los clientes deben cumplir con la regla: Si TravelSpend>1567.875 AND Income>59098.0\n",
        "* \"[NoTC:0;SiTC:47]\" en donde los clientes deben cumplir con la regla: TravelSpend<=1188 AND FoodSpend>4990.73\n",
        "* \"[NoTC:1;SiTC:0]\" en donde los clientes deben cumplir con la regla: TravelSpend<=1188 AND FoodSpend<=4990.73 AND FoodSpend>4972.55\n",
        "\n",
        "Con respecto al pronóstico de los datos, se puede observar un total de 2 individuos sin clasificación, de los cuales ninguno usará tarjeta de crédito para el pago de los gastos de viaje y de los alimentos en sus planes de viajar el próximo año. El individuo 1 hace parte de la regla TravelSpend>1567.875 AND Income>59098.0, la cual lleva al nodo puro \"[NoTC:108;SiTC:0]\". El individuo 2 hace parte de la regla TravelSpend>1567.875 AND Income<=59098.0 AND FoodSpend>2711.895 AND TravelSpend<=3008.25, la cual lleva al nodo \"[NoTC:107;SiTC:29]\"."
      ],
      "metadata": {
        "id": "Gw-TNRRqoh3Y"
      }
    }
  ]
}